{
 "cells": [
  {
   "cell_type": "code",
   "execution_count": 1,
   "metadata": {},
   "outputs": [
    {
     "name": "stderr",
     "output_type": "stream",
     "text": [
      "/usr/lib/python3/dist-packages/h5py/__init__.py:36: FutureWarning: Conversion of the second argument of issubdtype from `float` to `np.floating` is deprecated. In future, it will be treated as `np.float64 == np.dtype(float).type`.\n",
      "  from ._conv import register_converters as _register_converters\n",
      "Using TensorFlow backend.\n"
     ]
    },
    {
     "data": {
      "text/plain": [
       "'2.1.1'"
      ]
     },
     "execution_count": 1,
     "metadata": {},
     "output_type": "execute_result"
    }
   ],
   "source": [
    "import keras\n",
    "keras.__version__"
   ]
  },
  {
   "cell_type": "markdown",
   "metadata": {},
   "source": [
    "# Overfitting and underfitting\n",
    "\n",
    "This notebook contains the code samples found in Chapter 3, Section 6 of [Deep Learning with Python](https://www.manning.com/books/deep-learning-with-python?a_aid=keras&a_bid=76564dff). Note that the original text features far more content, in particular further explanations and figures: in this notebook, you will only find source code and related comments.\n",
    "\n",
    "----\n",
    "\n",
    "\n",
    "In all the examples we saw in the previous chapter -- movie review sentiment prediction, topic classification, and house price regression -- \n",
    "we could notice that the performance of our model on the held-out validation data would always peak after a few epochs and would then start \n",
    "degrading, i.e. our model would quickly start to _overfit_ to the training data. Overfitting happens in every single machine learning \n",
    "problem. Learning how to deal with overfitting is essential to mastering machine learning.\n",
    "\n",
    "The fundamental issue in machine learning is the tension between optimization and generalization. \"Optimization\" refers to the process of \n",
    "adjusting a model to get the best performance possible on the training data (the \"learning\" in \"machine learning\"), while \"generalization\" \n",
    "refers to how well the trained model would perform on data it has never seen before. The goal of the game is to get good generalization, of \n",
    "course, but you do not control generalization; you can only adjust the model based on its training data.\n",
    "\n",
    "At the beginning of training, optimization and generalization are correlated: the lower your loss on training data, the lower your loss on \n",
    "test data. While this is happening, your model is said to be _under-fit_: there is still progress to be made; the network hasn't yet \n",
    "modeled all relevant patterns in the training data. But after a certain number of iterations on the training data, generalization stops \n",
    "improving, validation metrics stall then start degrading: the model is then starting to over-fit, i.e. is it starting to learn patterns \n",
    "that are specific to the training data but that are misleading or irrelevant when it comes to new data.\n",
    "\n",
    "To prevent a model from learning misleading or irrelevant patterns found in the training data, _the best solution is of course to get \n",
    "more training data_. A model trained on more data will naturally generalize better. When that is no longer possible, the next best solution \n",
    "is to modulate the quantity of information that your model is allowed to store, or to add constraints on what information it is allowed to \n",
    "store. If a network can only afford to memorize a small number of patterns, the optimization process will force it to focus on the most \n",
    "prominent patterns, which have a better chance of generalizing well.\n",
    "\n",
    "The processing of fighting overfitting in this way is called _regularization_. Let's review some of the most common regularization \n",
    "techniques, and let's apply them in practice to improve our movie classification model from  the previous chapter."
   ]
  },
  {
   "cell_type": "markdown",
   "metadata": {},
   "source": [
    "Note: in this notebook we will be using the IMDB test set as our validation set. It doesn't matter in this context.\n",
    "\n",
    "Let's prepare the data using the code from Chapter 3, Section 5:"
   ]
  },
  {
   "cell_type": "code",
   "execution_count": 2,
   "metadata": {},
   "outputs": [],
   "source": [
    "from keras.datasets import imdb\n",
    "import numpy as np\n",
    "\n",
    "(train_data, train_labels), (test_data, test_labels) = imdb.load_data(num_words=10000)\n",
    "\n",
    "def vectorize_sequences(sequences, dimension=10000):\n",
    "    # Create an all-zero matrix of shape (len(sequences), dimension)\n",
    "    results = np.zeros((len(sequences), dimension))\n",
    "    for i, sequence in enumerate(sequences):\n",
    "        results[i, sequence] = 1.  # set specific indices of results[i] to 1s\n",
    "    return results\n",
    "\n",
    "# Our vectorized training data\n",
    "x_train = vectorize_sequences(train_data)\n",
    "# Our vectorized test data\n",
    "x_test = vectorize_sequences(test_data)\n",
    "# Our vectorized labels\n",
    "y_train = np.asarray(train_labels).astype('float32')\n",
    "y_test = np.asarray(test_labels).astype('float32')"
   ]
  },
  {
   "cell_type": "markdown",
   "metadata": {},
   "source": [
    "# Fighting overfitting\n",
    "\n",
    "## Reducing the network's size\n",
    "\n",
    "\n",
    "The simplest way to prevent overfitting is to reduce the size of the model, i.e. the number of learnable parameters in the model (which is \n",
    "determined by the number of layers and the number of units per layer). In deep learning, the number of learnable parameters in a model is \n",
    "often referred to as the model's \"capacity\". Intuitively, a model with more parameters will have more \"memorization capacity\" and therefore \n",
    "will be able to easily learn a perfect dictionary-like mapping between training samples and their targets, a mapping without any \n",
    "generalization power. For instance, a model with 500,000 binary parameters could easily be made to learn the class of every digits in the \n",
    "MNIST training set: we would only need 10 binary parameters for each of the 50,000 digits. Such a model would be useless for classifying \n",
    "new digit samples. Always keep this in mind: deep learning models tend to be good at fitting to the training data, but the real challenge \n",
    "is generalization, not fitting.\n",
    "\n",
    "On the other hand, if the network has limited memorization resources, it will not be able to learn this mapping as easily, and thus, in \n",
    "order to minimize its loss, it will have to resort to learning compressed representations that have predictive power regarding the targets \n",
    "-- precisely the type of representations that we are interested in. At the same time, keep in mind that you should be using models that have \n",
    "enough parameters that they won't be underfitting: your model shouldn't be starved for memorization resources. There is a compromise to be \n",
    "found between \"too much capacity\" and \"not enough capacity\".\n",
    "\n",
    "Unfortunately, there is no magical formula to determine what the right number of layers is, or what the right size for each layer is. You \n",
    "will have to evaluate an array of different architectures (on your validation set, not on your test set, of course) in order to find the \n",
    "right model size for your data. The general workflow to find an appropriate model size is to start with relatively few layers and \n",
    "parameters, and start increasing the size of the layers or adding new layers until you see diminishing returns with regard to the \n",
    "validation loss.\n",
    "\n",
    "Let's try this on our movie review classification network. Our original network was as such:"
   ]
  },
  {
   "cell_type": "code",
   "execution_count": 3,
   "metadata": {},
   "outputs": [
    {
     "name": "stdout",
     "output_type": "stream",
     "text": [
      "WARNING:tensorflow:From /usr/lib/python3/dist-packages/keras/backend/tensorflow_backend.py:1344: calling reduce_mean (from tensorflow.python.ops.math_ops) with keep_dims is deprecated and will be removed in a future version.\n",
      "Instructions for updating:\n",
      "keep_dims is deprecated, use keepdims instead\n"
     ]
    }
   ],
   "source": [
    "from keras import models\n",
    "from keras import layers\n",
    "\n",
    "original_model = models.Sequential()\n",
    "original_model.add(layers.Dense(16, activation='relu', input_shape=(10000,)))\n",
    "original_model.add(layers.Dense(16, activation='relu'))\n",
    "original_model.add(layers.Dense(1, activation='sigmoid'))\n",
    "\n",
    "original_model.compile(optimizer='rmsprop',\n",
    "                       loss='binary_crossentropy',\n",
    "                       metrics=['acc'])"
   ]
  },
  {
   "cell_type": "markdown",
   "metadata": {},
   "source": [
    "Now let's try to replace it with this smaller network:"
   ]
  },
  {
   "cell_type": "code",
   "execution_count": 4,
   "metadata": {},
   "outputs": [],
   "source": [
    "smaller_model = models.Sequential()\n",
    "smaller_model.add(layers.Dense(4, activation='relu', input_shape=(10000,)))\n",
    "smaller_model.add(layers.Dense(4, activation='relu'))\n",
    "smaller_model.add(layers.Dense(1, activation='sigmoid'))\n",
    "\n",
    "smaller_model.compile(optimizer='rmsprop',\n",
    "                      loss='binary_crossentropy',\n",
    "                      metrics=['acc'])"
   ]
  },
  {
   "cell_type": "markdown",
   "metadata": {},
   "source": [
    "\n",
    "Here's a comparison of the validation losses of the original network and the smaller network. The dots are the validation loss values of \n",
    "the smaller network, and the crosses are the initial network (remember: a lower validation loss signals a better model)."
   ]
  },
  {
   "cell_type": "code",
   "execution_count": 5,
   "metadata": {},
   "outputs": [
    {
     "name": "stdout",
     "output_type": "stream",
     "text": [
      "Train on 25000 samples, validate on 25000 samples\n",
      "Epoch 1/20\n",
      "25000/25000 [==============================] - 5s 187us/step - loss: 0.4442 - acc: 0.8249 - val_loss: 0.3286 - val_acc: 0.8839\n",
      "Epoch 2/20\n",
      "25000/25000 [==============================] - 3s 115us/step - loss: 0.2574 - acc: 0.9080 - val_loss: 0.2862 - val_acc: 0.8882\n",
      "Epoch 3/20\n",
      "25000/25000 [==============================] - 3s 117us/step - loss: 0.1992 - acc: 0.9292 - val_loss: 0.2822 - val_acc: 0.8890\n",
      "Epoch 4/20\n",
      "25000/25000 [==============================] - 3s 115us/step - loss: 0.1669 - acc: 0.9413 - val_loss: 0.2941 - val_acc: 0.8844\n",
      "Epoch 5/20\n",
      "25000/25000 [==============================] - 3s 117us/step - loss: 0.1439 - acc: 0.9497 - val_loss: 0.3116 - val_acc: 0.8806\n",
      "Epoch 6/20\n",
      "25000/25000 [==============================] - 3s 116us/step - loss: 0.1263 - acc: 0.9554 - val_loss: 0.3480 - val_acc: 0.8723\n",
      "Epoch 7/20\n",
      "25000/25000 [==============================] - 3s 116us/step - loss: 0.1107 - acc: 0.9614 - val_loss: 0.3614 - val_acc: 0.8712\n",
      "Epoch 8/20\n",
      "25000/25000 [==============================] - 3s 116us/step - loss: 0.0985 - acc: 0.9670 - val_loss: 0.3949 - val_acc: 0.8665\n",
      "Epoch 9/20\n",
      "25000/25000 [==============================] - 3s 117us/step - loss: 0.0849 - acc: 0.9716 - val_loss: 0.4297 - val_acc: 0.8621\n",
      "Epoch 10/20\n",
      "25000/25000 [==============================] - 3s 117us/step - loss: 0.0764 - acc: 0.9755 - val_loss: 0.4953 - val_acc: 0.8529\n",
      "Epoch 11/20\n",
      "25000/25000 [==============================] - 3s 119us/step - loss: 0.0693 - acc: 0.9778 - val_loss: 0.4811 - val_acc: 0.8603\n",
      "Epoch 12/20\n",
      "25000/25000 [==============================] - 3s 117us/step - loss: 0.0570 - acc: 0.9826 - val_loss: 0.5212 - val_acc: 0.8562\n",
      "Epoch 13/20\n",
      "25000/25000 [==============================] - 3s 118us/step - loss: 0.0522 - acc: 0.9834 - val_loss: 0.5337 - val_acc: 0.8581\n",
      "Epoch 14/20\n",
      "25000/25000 [==============================] - 3s 118us/step - loss: 0.0432 - acc: 0.9875 - val_loss: 0.6091 - val_acc: 0.8485\n",
      "Epoch 15/20\n",
      "25000/25000 [==============================] - 3s 117us/step - loss: 0.0377 - acc: 0.9890 - val_loss: 0.6076 - val_acc: 0.8543\n",
      "Epoch 16/20\n",
      "25000/25000 [==============================] - 3s 119us/step - loss: 0.0314 - acc: 0.9907 - val_loss: 0.6402 - val_acc: 0.8534\n",
      "Epoch 17/20\n",
      "25000/25000 [==============================] - 3s 117us/step - loss: 0.0269 - acc: 0.9927 - val_loss: 0.7033 - val_acc: 0.8489\n",
      "Epoch 18/20\n",
      "25000/25000 [==============================] - 3s 118us/step - loss: 0.0212 - acc: 0.9946 - val_loss: 0.7333 - val_acc: 0.8494\n",
      "Epoch 19/20\n",
      "25000/25000 [==============================] - 3s 118us/step - loss: 0.0218 - acc: 0.9934 - val_loss: 0.7503 - val_acc: 0.8509\n",
      "Epoch 20/20\n",
      "25000/25000 [==============================] - 3s 118us/step - loss: 0.0147 - acc: 0.9965 - val_loss: 0.8050 - val_acc: 0.8479\n"
     ]
    }
   ],
   "source": [
    "original_hist = original_model.fit(x_train, y_train,\n",
    "                                   epochs=20,\n",
    "                                   batch_size=512,\n",
    "                                   validation_data=(x_test, y_test))"
   ]
  },
  {
   "cell_type": "code",
   "execution_count": 6,
   "metadata": {},
   "outputs": [
    {
     "name": "stdout",
     "output_type": "stream",
     "text": [
      "Train on 25000 samples, validate on 25000 samples\n",
      "Epoch 1/20\n",
      "25000/25000 [==============================] - 3s 117us/step - loss: 0.5808 - acc: 0.7018 - val_loss: 0.5310 - val_acc: 0.7558\n",
      "Epoch 2/20\n",
      "25000/25000 [==============================] - 3s 113us/step - loss: 0.4844 - acc: 0.8458 - val_loss: 0.4874 - val_acc: 0.8291\n",
      "Epoch 3/20\n",
      "25000/25000 [==============================] - 3s 112us/step - loss: 0.4389 - acc: 0.8924 - val_loss: 0.4669 - val_acc: 0.8488\n",
      "Epoch 4/20\n",
      "25000/25000 [==============================] - 3s 115us/step - loss: 0.4076 - acc: 0.9154 - val_loss: 0.4527 - val_acc: 0.8655\n",
      "Epoch 5/20\n",
      "25000/25000 [==============================] - 3s 114us/step - loss: 0.3830 - acc: 0.9306 - val_loss: 0.4506 - val_acc: 0.8634\n",
      "Epoch 6/20\n",
      "25000/25000 [==============================] - 3s 115us/step - loss: 0.3617 - acc: 0.9418 - val_loss: 0.4437 - val_acc: 0.8709\n",
      "Epoch 7/20\n",
      "25000/25000 [==============================] - 3s 127us/step - loss: 0.3424 - acc: 0.9506 - val_loss: 0.4495 - val_acc: 0.8674\n",
      "Epoch 8/20\n",
      "25000/25000 [==============================] - 3s 113us/step - loss: 0.3261 - acc: 0.9562 - val_loss: 0.4549 - val_acc: 0.8663\n",
      "Epoch 9/20\n",
      "25000/25000 [==============================] - 3s 113us/step - loss: 0.3100 - acc: 0.9616 - val_loss: 0.4730 - val_acc: 0.8614\n",
      "Epoch 10/20\n",
      "25000/25000 [==============================] - 3s 114us/step - loss: 0.2957 - acc: 0.9659 - val_loss: 0.4745 - val_acc: 0.8614\n",
      "Epoch 11/20\n",
      "25000/25000 [==============================] - 3s 113us/step - loss: 0.2816 - acc: 0.9689 - val_loss: 0.4915 - val_acc: 0.8587\n",
      "Epoch 12/20\n",
      "25000/25000 [==============================] - 3s 115us/step - loss: 0.2686 - acc: 0.9719 - val_loss: 0.4924 - val_acc: 0.8604\n",
      "Epoch 13/20\n",
      "25000/25000 [==============================] - 4s 150us/step - loss: 0.2568 - acc: 0.9741 - val_loss: 0.5042 - val_acc: 0.8604\n",
      "Epoch 14/20\n",
      "25000/25000 [==============================] - 3s 128us/step - loss: 0.2455 - acc: 0.9762 - val_loss: 0.5445 - val_acc: 0.8560\n",
      "Epoch 15/20\n",
      "25000/25000 [==============================] - 3s 114us/step - loss: 0.2343 - acc: 0.9778 - val_loss: 0.5353 - val_acc: 0.8580\n",
      "Epoch 16/20\n",
      "25000/25000 [==============================] - 3s 117us/step - loss: 0.2236 - acc: 0.9803 - val_loss: 0.5829 - val_acc: 0.8536\n",
      "Epoch 17/20\n",
      "25000/25000 [==============================] - 3s 117us/step - loss: 0.2147 - acc: 0.9805 - val_loss: 0.5639 - val_acc: 0.8555\n",
      "Epoch 18/20\n",
      "25000/25000 [==============================] - 3s 123us/step - loss: 0.2051 - acc: 0.9823 - val_loss: 0.6220 - val_acc: 0.8513\n",
      "Epoch 19/20\n",
      "25000/25000 [==============================] - 3s 115us/step - loss: 0.1969 - acc: 0.9827 - val_loss: 0.6335 - val_acc: 0.8513\n",
      "Epoch 20/20\n",
      "25000/25000 [==============================] - 3s 124us/step - loss: 0.1887 - acc: 0.9837 - val_loss: 0.6675 - val_acc: 0.8494\n"
     ]
    }
   ],
   "source": [
    "smaller_model_hist = smaller_model.fit(x_train, y_train,\n",
    "                                       epochs=20,\n",
    "                                       batch_size=512,\n",
    "                                       validation_data=(x_test, y_test))"
   ]
  },
  {
   "cell_type": "code",
   "execution_count": 7,
   "metadata": {},
   "outputs": [],
   "source": [
    "epochs = range(1, 21)\n",
    "original_val_loss = original_hist.history['val_loss']\n",
    "smaller_model_val_loss = smaller_model_hist.history['val_loss']"
   ]
  },
  {
   "cell_type": "code",
   "execution_count": 9,
   "metadata": {},
   "outputs": [
    {
     "data": {
      "image/png": "[encoded data removed]",
      "text/plain": [
       "<matplotlib.figure.Figure at 0x7fce1aef5f60>"
      ]
     },
     "metadata": {},
     "output_type": "display_data"
    }
   ],
   "source": [
    "import matplotlib.pyplot as plt\n",
    "\n",
    "# b+ is for \"blue cross\"\n",
    "plt.plot(epochs, original_val_loss, 'b+', label='Original model')\n",
    "# \"bo\" is for \"blue dot\"\n",
    "plt.plot(epochs, smaller_model_val_loss, 'bo', label='Smaller model')\n",
    "plt.xlabel('Epochs')\n",
    "plt.ylabel('Validation loss')\n",
    "plt.legend()\n",
    "\n",
    "plt.show()"
   ]
  },
  {
   "cell_type": "markdown",
   "metadata": {},
   "source": [
    "\n",
    "As you can see, the smaller network starts overfitting later than the reference one (after 6 epochs rather than 4) and its performance \n",
    "degrades much more slowly once it starts overfitting.\n",
    "\n",
    "Now, for kicks, let's add to this benchmark a network that has much more capacity, far more than the problem would warrant:"
   ]
  },
  {
   "cell_type": "code",
   "execution_count": 10,
   "metadata": {},
   "outputs": [],
   "source": [
    "bigger_model = models.Sequential()\n",
    "bigger_model.add(layers.Dense(512, activation='relu', input_shape=(10000,)))\n",
    "bigger_model.add(layers.Dense(512, activation='relu'))\n",
    "bigger_model.add(layers.Dense(1, activation='sigmoid'))\n",
    "\n",
    "bigger_model.compile(optimizer='rmsprop',\n",
    "                     loss='binary_crossentropy',\n",
    "                     metrics=['acc'])"
   ]
  },
  {
   "cell_type": "code",
   "execution_count": 11,
   "metadata": {},
   "outputs": [
    {
     "name": "stdout",
     "output_type": "stream",
     "text": [
      "Train on 25000 samples, validate on 25000 samples\n",
      "Epoch 1/20\n",
      "25000/25000 [==============================] - 15s 608us/step - loss: 0.4653 - acc: 0.7965 - val_loss: 0.2925 - val_acc: 0.8817\n",
      "Epoch 2/20\n",
      "25000/25000 [==============================] - 17s 669us/step - loss: 0.2244 - acc: 0.9116 - val_loss: 0.3085 - val_acc: 0.8704\n",
      "Epoch 3/20\n",
      "25000/25000 [==============================] - 17s 679us/step - loss: 0.1350 - acc: 0.9509 - val_loss: 0.3528 - val_acc: 0.8710\n",
      "Epoch 4/20\n",
      "25000/25000 [==============================] - 16s 631us/step - loss: 0.0827 - acc: 0.9730 - val_loss: 0.3711 - val_acc: 0.8842\n",
      "Epoch 5/20\n",
      "25000/25000 [==============================] - 15s 618us/step - loss: 0.0629 - acc: 0.9864 - val_loss: 0.4302 - val_acc: 0.8788\n",
      "Epoch 6/20\n",
      "25000/25000 [==============================] - 16s 621us/step - loss: 0.0508 - acc: 0.9897 - val_loss: 0.4501 - val_acc: 0.8768\n",
      "Epoch 7/20\n",
      "25000/25000 [==============================] - 17s 674us/step - loss: 0.0019 - acc: 1.0000 - val_loss: 0.6616 - val_acc: 0.8808\n",
      "Epoch 8/20\n",
      "25000/25000 [==============================] - 16s 639us/step - loss: 0.0735 - acc: 0.9900 - val_loss: 0.6600 - val_acc: 0.8731\n",
      "Epoch 9/20\n",
      "25000/25000 [==============================] - 16s 636us/step - loss: 0.0248 - acc: 0.9941 - val_loss: 0.5863 - val_acc: 0.8733\n",
      "Epoch 10/20\n",
      "25000/25000 [==============================] - 17s 680us/step - loss: 7.5222e-04 - acc: 1.0000 - val_loss: 0.7694 - val_acc: 0.8761\n",
      "Epoch 11/20\n",
      "25000/25000 [==============================] - 15s 618us/step - loss: 0.0823 - acc: 0.9913 - val_loss: 0.7963 - val_acc: 0.8751\n",
      "Epoch 12/20\n",
      "25000/25000 [==============================] - 15s 608us/step - loss: 0.0027 - acc: 0.9996 - val_loss: 0.7652 - val_acc: 0.8756\n",
      "Epoch 13/20\n",
      "25000/25000 [==============================] - 15s 603us/step - loss: 6.1731e-05 - acc: 1.0000 - val_loss: 0.8838 - val_acc: 0.8767\n",
      "Epoch 14/20\n",
      "25000/25000 [==============================] - 15s 602us/step - loss: 0.0721 - acc: 0.9922 - val_loss: 0.8975 - val_acc: 0.8670\n",
      "Epoch 15/20\n",
      "25000/25000 [==============================] - 15s 602us/step - loss: 1.1148e-04 - acc: 1.0000 - val_loss: 0.8801 - val_acc: 0.8770\n",
      "Epoch 16/20\n",
      "25000/25000 [==============================] - 15s 603us/step - loss: 9.3897e-06 - acc: 1.0000 - val_loss: 0.9341 - val_acc: 0.8777\n",
      "Epoch 17/20\n",
      "25000/25000 [==============================] - 15s 602us/step - loss: 2.5991e-06 - acc: 1.0000 - val_loss: 1.0215 - val_acc: 0.8770\n",
      "Epoch 18/20\n",
      "25000/25000 [==============================] - 15s 600us/step - loss: 4.7108e-07 - acc: 1.0000 - val_loss: 1.0749 - val_acc: 0.8772\n",
      "Epoch 19/20\n",
      "25000/25000 [==============================] - 15s 603us/step - loss: 1.5049e-07 - acc: 1.0000 - val_loss: 1.1380 - val_acc: 0.8767\n",
      "Epoch 20/20\n",
      "25000/25000 [==============================] - 15s 599us/step - loss: 1.1361e-07 - acc: 1.0000 - val_loss: 1.1710 - val_acc: 0.8774\n"
     ]
    }
   ],
   "source": [
    "bigger_model_hist = bigger_model.fit(x_train, y_train,\n",
    "                                     epochs=20,\n",
    "                                     batch_size=512,\n",
    "                                     validation_data=(x_test, y_test))"
   ]
  },
  {
   "cell_type": "markdown",
   "metadata": {},
   "source": [
    "Here's how the bigger network fares compared to the reference one. The dots are the validation loss values of the bigger network, and the \n",
    "crosses are the initial network."
   ]
  },
  {
   "cell_type": "code",
   "execution_count": 12,
   "metadata": {},
   "outputs": [
    {
     "data": {
      "image/png": "[encoded data removed]",
      "text/plain": [
       "<matplotlib.figure.Figure at 0x7fce1a2440f0>"
      ]
     },
     "metadata": {},
     "output_type": "display_data"
    }
   ],
   "source": [
    "bigger_model_val_loss = bigger_model_hist.history['val_loss']\n",
    "\n",
    "plt.plot(epochs, original_val_loss, 'b+', label='Original model')\n",
    "plt.plot(epochs, bigger_model_val_loss, 'bo', label='Bigger model')\n",
    "plt.xlabel('Epochs')\n",
    "plt.ylabel('Validation loss')\n",
    "plt.legend()\n",
    "\n",
    "plt.show()"
   ]
  },
  {
   "cell_type": "markdown",
   "metadata": {},
   "source": [
    "\n",
    "The bigger network starts overfitting almost right away, after just one epoch, and overfits much more severely. Its validation loss is also \n",
    "more noisy.\n",
    "\n",
    "Meanwhile, here are the training losses for our two networks:"
   ]
  },
  {
   "cell_type": "code",
   "execution_count": 13,
   "metadata": {},
   "outputs": [
    {
     "data": {
      "image/png": "[encoded data removed]",
      "text/plain": [
       "<matplotlib.figure.Figure at 0x7fce1a2cf9b0>"
      ]
     },
     "metadata": {},
     "output_type": "display_data"
    }
   ],
   "source": [
    "original_train_loss = original_hist.history['loss']\n",
    "bigger_model_train_loss = bigger_model_hist.history['loss']\n",
    "\n",
    "plt.plot(epochs, original_train_loss, 'b+', label='Original model')\n",
    "plt.plot(epochs, bigger_model_train_loss, 'bo', label='Bigger model')\n",
    "plt.xlabel('Epochs')\n",
    "plt.ylabel('Training loss')\n",
    "plt.legend()\n",
    "\n",
    "plt.show()"
   ]
  },
  {
   "cell_type": "markdown",
   "metadata": {},
   "source": [
    "As you can see, the bigger network gets its training loss near zero very quickly. The more capacity the network has, the quicker it will be \n",
    "able to model the training data (resulting in a low training loss), but the more susceptible it is to overfitting (resulting in a large \n",
    "difference between the training and validation loss)."
   ]
  },
  {
   "cell_type": "markdown",
   "metadata": {},
   "source": [
    "## Adding weight regularization\n",
    "\n",
    "\n",
    "You may be familiar with _Occam's Razor_ principle: given two explanations for something, the explanation most likely to be correct is the \n",
    "\"simplest\" one, the one that makes the least amount of assumptions. This also applies to the models learned by neural networks: given some \n",
    "training data and a network architecture, there are multiple sets of weights values (multiple _models_) that could explain the data, and \n",
    "simpler models are less likely to overfit than complex ones.\n",
    "\n",
    "A \"simple model\" in this context is a model where the distribution of parameter values has less entropy (or a model with fewer \n",
    "parameters altogether, as we saw in the section above). Thus a common way to mitigate overfitting is to put constraints on the complexity \n",
    "of a network by forcing its weights to only take small values, which makes the distribution of weight values more \"regular\". This is called \n",
    "\"weight regularization\", and it is done by adding to the loss function of the network a _cost_ associated with having large weights. This \n",
    "cost comes in two flavors:\n",
    "\n",
    "* L1 regularization, where the cost added is proportional to the _absolute value of the weights coefficients_ (i.e. to what is called the \n",
    "\"L1 norm\" of the weights).\n",
    "* L2 regularization, where the cost added is proportional to the _square of the value of the weights coefficients_ (i.e. to what is called \n",
    "the \"L2 norm\" of the weights). L2 regularization is also called _weight decay_ in the context of neural networks. Don't let the different \n",
    "name confuse you: weight decay is mathematically the exact same as L2 regularization.\n",
    "\n",
    "In Keras, weight regularization is added by passing _weight regularizer instances_ to layers as keyword arguments. Let's add L2 weight \n",
    "regularization to our movie review classification network:"
   ]
  },
  {
   "cell_type": "code",
   "execution_count": 18,
   "metadata": {},
   "outputs": [],
   "source": [
    "from keras import regularizers\n",
    "\n",
    "l2_model = models.Sequential()\n",
    "l2_model.add(layers.Dense(16, kernel_regularizer=regularizers.l2(0.001),\n",
    "                          activation='relu', input_shape=(10000,)))\n",
    "l2_model.add(layers.Dense(16, kernel_regularizer=regularizers.l1(0.001),\n",
    "                          activation='relu'))\n",
    "l2_model.add(layers.Dense(1, activation='sigmoid'))"
   ]
  },
  {
   "cell_type": "code",
   "execution_count": 19,
   "metadata": {},
   "outputs": [],
   "source": [
    "l2_model.compile(optimizer='rmsprop',\n",
    "                 loss='binary_crossentropy',\n",
    "                 metrics=['acc'])"
   ]
  },
  {
   "cell_type": "markdown",
   "metadata": {},
   "source": [
    "`l2(0.001)` means that every coefficient in the weight matrix of the layer will add `0.001 * weight_coefficient_value` to the total loss of \n",
    "the network. Note that because this penalty is _only added at training time_, the loss for this network will be much higher at training \n",
    "than at test time.\n",
    "\n",
    "Here's the impact of our L2 regularization penalty:"
   ]
  },
  {
   "cell_type": "code",
   "execution_count": 20,
   "metadata": {},
   "outputs": [
    {
     "name": "stdout",
     "output_type": "stream",
     "text": [
      "Train on 25000 samples, validate on 25000 samples\n",
      "Epoch 1/20\n",
      "25000/25000 [==============================] - 3s 128us/step - loss: 0.5221 - acc: 0.8290 - val_loss: 0.4146 - val_acc: 0.8763\n",
      "Epoch 2/20\n",
      "25000/25000 [==============================] - 3s 118us/step - loss: 0.3427 - acc: 0.9055 - val_loss: 0.3681 - val_acc: 0.8858\n",
      "Epoch 3/20\n",
      "25000/25000 [==============================] - 3s 118us/step - loss: 0.2995 - acc: 0.9204 - val_loss: 0.3788 - val_acc: 0.8772\n",
      "Epoch 4/20\n",
      "25000/25000 [==============================] - 3s 119us/step - loss: 0.2742 - acc: 0.9292 - val_loss: 0.3660 - val_acc: 0.8836\n",
      "Epoch 5/20\n",
      "25000/25000 [==============================] - 3s 119us/step - loss: 0.2597 - acc: 0.9346 - val_loss: 0.3712 - val_acc: 0.8825\n",
      "Epoch 6/20\n",
      "25000/25000 [==============================] - 3s 119us/step - loss: 0.2496 - acc: 0.9380 - val_loss: 0.4131 - val_acc: 0.8666\n",
      "Epoch 7/20\n",
      "25000/25000 [==============================] - 3s 119us/step - loss: 0.2387 - acc: 0.9424 - val_loss: 0.4395 - val_acc: 0.8599\n",
      "Epoch 8/20\n",
      "25000/25000 [==============================] - 3s 121us/step - loss: 0.2346 - acc: 0.9422 - val_loss: 0.4004 - val_acc: 0.8755\n",
      "Epoch 9/20\n",
      "25000/25000 [==============================] - 3s 126us/step - loss: 0.2307 - acc: 0.9452 - val_loss: 0.3921 - val_acc: 0.8768\n",
      "Epoch 10/20\n",
      "25000/25000 [==============================] - 3s 128us/step - loss: 0.2233 - acc: 0.9469 - val_loss: 0.3977 - val_acc: 0.8750\n",
      "Epoch 11/20\n",
      "25000/25000 [==============================] - 3s 120us/step - loss: 0.2228 - acc: 0.9478 - val_loss: 0.4025 - val_acc: 0.8743\n",
      "Epoch 12/20\n",
      "25000/25000 [==============================] - 3s 120us/step - loss: 0.2201 - acc: 0.9478 - val_loss: 0.4195 - val_acc: 0.8702\n",
      "Epoch 13/20\n",
      "25000/25000 [==============================] - 3s 121us/step - loss: 0.2155 - acc: 0.9490 - val_loss: 0.4369 - val_acc: 0.8686\n",
      "Epoch 14/20\n",
      "25000/25000 [==============================] - 3s 129us/step - loss: 0.2112 - acc: 0.9521 - val_loss: 0.4656 - val_acc: 0.8607\n",
      "Epoch 15/20\n",
      "25000/25000 [==============================] - 3s 120us/step - loss: 0.2094 - acc: 0.9516 - val_loss: 0.4345 - val_acc: 0.8675\n",
      "Epoch 16/20\n",
      "25000/25000 [==============================] - 3s 129us/step - loss: 0.2061 - acc: 0.9533 - val_loss: 0.4796 - val_acc: 0.8543\n",
      "Epoch 17/20\n",
      "25000/25000 [==============================] - 3s 120us/step - loss: 0.2071 - acc: 0.9519 - val_loss: 0.4562 - val_acc: 0.8650\n",
      "Epoch 18/20\n",
      "25000/25000 [==============================] - 3s 120us/step - loss: 0.2025 - acc: 0.9546 - val_loss: 0.4479 - val_acc: 0.8641\n",
      "Epoch 19/20\n",
      "25000/25000 [==============================] - 3s 127us/step - loss: 0.1985 - acc: 0.9562 - val_loss: 0.4500 - val_acc: 0.8656\n",
      "Epoch 20/20\n",
      "25000/25000 [==============================] - 3s 134us/step - loss: 0.1990 - acc: 0.9552 - val_loss: 0.4499 - val_acc: 0.8669\n"
     ]
    }
   ],
   "source": [
    "l2_model_hist = l2_model.fit(x_train, y_train,\n",
    "                             epochs=20,\n",
    "                             batch_size=512,\n",
    "                             validation_data=(x_test, y_test))"
   ]
  },
  {
   "cell_type": "code",
   "execution_count": 21,
   "metadata": {},
   "outputs": [
    {
     "data": {
      "image/png": "[encoded data removed]",
      "text/plain": [
       "<matplotlib.figure.Figure at 0x7fce14fea128>"
      ]
     },
     "metadata": {},
     "output_type": "display_data"
    }
   ],
   "source": [
    "l2_model_val_loss = l2_model_hist.history['val_loss']\n",
    "\n",
    "plt.plot(epochs, original_val_loss, 'b+', label='Original model')\n",
    "plt.plot(epochs, l2_model_val_loss, 'bo', label='L2-regularized model')\n",
    "plt.xlabel('Epochs')\n",
    "plt.ylabel('Validation loss')\n",
    "plt.legend()\n",
    "\n",
    "plt.show()"
   ]
  },
  {
   "cell_type": "markdown",
   "metadata": {},
   "source": [
    "\n",
    "\n",
    "As you can see, the model with L2 regularization (dots) has become much more resistant to overfitting than the reference model (crosses), \n",
    "even though both models have the same number of parameters.\n",
    "\n",
    "As alternatives to L2 regularization, you could use one of the following Keras weight regularizers:"
   ]
  },
  {
   "cell_type": "code",
   "execution_count": null,
   "metadata": {
    "collapsed": true
   },
   "outputs": [],
   "source": [
    "from keras import regularizers\n",
    "\n",
    "# L1 regularization\n",
    "regularizers.l1(0.001)\n",
    "\n",
    "# L1 and L2 regularization at the same time\n",
    "regularizers.l1_l2(l1=0.001, l2=0.001)"
   ]
  },
  {
   "cell_type": "markdown",
   "metadata": {},
   "source": [
    "## Adding dropout\n",
    "\n",
    "\n",
    "Dropout is one of the most effective and most commonly used regularization techniques for neural networks, developed by Hinton and his \n",
    "students at the University of Toronto. Dropout, applied to a layer, consists of randomly \"dropping out\" (i.e. setting to zero) a number of \n",
    "output features of the layer during training. Let's say a given layer would normally have returned a vector `[0.2, 0.5, 1.3, 0.8, 1.1]` for a \n",
    "given input sample during training; after applying dropout, this vector will have a few zero entries distributed at random, e.g. `[0, 0.5, \n",
    "1.3, 0, 1.1]`. The \"dropout rate\" is the fraction of the features that are being zeroed-out; it is usually set between 0.2 and 0.5. At test \n",
    "time, no units are dropped out, and instead the layer's output values are scaled down by a factor equal to the dropout rate, so as to \n",
    "balance for the fact that more units are active than at training time.\n",
    "\n",
    "Consider a Numpy matrix containing the output of a layer, `layer_output`, of shape `(batch_size, features)`. At training time, we would be \n",
    "zero-ing out at random a fraction of the values in the matrix:"
   ]
  },
  {
   "cell_type": "code",
   "execution_count": 22,
   "metadata": {},
   "outputs": [
    {
     "ename": "SyntaxError",
     "evalue": "invalid syntax (<ipython-input-22-05b5b6ad80f2>, line 2)",
     "output_type": "error",
     "traceback": [
      "\u001b[0;36m  File \u001b[0;32m\"<ipython-input-22-05b5b6ad80f2>\"\u001b[0;36m, line \u001b[0;32m2\u001b[0m\n\u001b[0;31m    layer_output *= np.randint(0, high=2, size=layer_output.shape)regularizers.l1_l2(l1=0.001, l2=0.001)\u001b[0m\n\u001b[0m                                                                             ^\u001b[0m\n\u001b[0;31mSyntaxError\u001b[0m\u001b[0;31m:\u001b[0m invalid syntax\n"
     ]
    }
   ],
   "source": [
    "# At training time: we drop out 50% of the units in the outputregularizers.l1_l2(l1=0.001, l2=0.001)\n",
    "layer_output *= np.randint(0, high=2, size=layer_output.shape)regularizers.l1_l2(l1=0.001, l2=0.001)"
   ]
  },
  {
   "cell_type": "markdown",
   "metadata": {},
   "source": [
    "\n",
    "At test time, we would be scaling the output down by the dropout rate. Here we scale by 0.5 (because we were previous dropping half the \n",
    "units):"
   ]
  },
  {
   "cell_type": "code",
   "execution_count": 23,
   "metadata": {},
   "outputs": [
    {
     "ename": "NameError",
     "evalue": "name 'layer_output' is not defined",
     "output_type": "error",
     "traceback": [
      "\u001b[0;31m---------------------------------------------------------------------------\u001b[0m",
      "\u001b[0;31mNameError\u001b[0m                                 Traceback (most recent call last)",
      "\u001b[0;32m<ipython-input-23-bfeb0a27d9eb>\u001b[0m in \u001b[0;36m<module>\u001b[0;34m()\u001b[0m\n\u001b[1;32m      1\u001b[0m \u001b[0;31m# At test time:\u001b[0m\u001b[0;34m\u001b[0m\u001b[0;34m\u001b[0m\u001b[0m\n\u001b[0;32m----> 2\u001b[0;31m \u001b[0mlayer_output\u001b[0m \u001b[0;34m*=\u001b[0m \u001b[0;36m0.5\u001b[0m\u001b[0;34m\u001b[0m\u001b[0m\n\u001b[0m",
      "\u001b[0;31mNameError\u001b[0m: name 'layer_output' is not defined"
     ]
    }
   ],
   "source": [
    "# At test time:\n",
    "layer_output *= 0.5"
   ]
  },
  {
   "cell_type": "markdown",
   "metadata": {},
   "source": [
    "\n",
    "Note that this process can be implemented by doing both operations at training time and leaving the output unchanged at test time, which is \n",
    "often the way it is implemented in practice:"
   ]
  },
  {
   "cell_type": "code",
   "execution_count": 24,
   "metadata": {},
   "outputs": [
    {
     "ename": "NameError",
     "evalue": "name 'layer_output' is not defined",
     "output_type": "error",
     "traceback": [
      "\u001b[0;31m---------------------------------------------------------------------------\u001b[0m",
      "\u001b[0;31mNameError\u001b[0m                                 Traceback (most recent call last)",
      "\u001b[0;32m<ipython-input-24-e035a3ac027e>\u001b[0m in \u001b[0;36m<module>\u001b[0;34m()\u001b[0m\n\u001b[1;32m      1\u001b[0m \u001b[0;31m# At training time:\u001b[0m\u001b[0;34m\u001b[0m\u001b[0;34m\u001b[0m\u001b[0m\n\u001b[0;32m----> 2\u001b[0;31m \u001b[0mlayer_output\u001b[0m \u001b[0;34m*=\u001b[0m \u001b[0mnp\u001b[0m\u001b[0;34m.\u001b[0m\u001b[0mrandint\u001b[0m\u001b[0;34m(\u001b[0m\u001b[0;36m0\u001b[0m\u001b[0;34m,\u001b[0m \u001b[0mhigh\u001b[0m\u001b[0;34m=\u001b[0m\u001b[0;36m2\u001b[0m\u001b[0;34m,\u001b[0m \u001b[0msize\u001b[0m\u001b[0;34m=\u001b[0m\u001b[0mlayer_output\u001b[0m\u001b[0;34m.\u001b[0m\u001b[0mshape\u001b[0m\u001b[0;34m)\u001b[0m\u001b[0;34m\u001b[0m\u001b[0m\n\u001b[0m\u001b[1;32m      3\u001b[0m \u001b[0;31m# Note that we are scaling *up* rather scaling *down* in this case\u001b[0m\u001b[0;34m\u001b[0m\u001b[0;34m\u001b[0m\u001b[0m\n\u001b[1;32m      4\u001b[0m \u001b[0mlayer_output\u001b[0m \u001b[0;34m/=\u001b[0m \u001b[0;36m0.5\u001b[0m\u001b[0;34m\u001b[0m\u001b[0m\n",
      "\u001b[0;31mNameError\u001b[0m: name 'layer_output' is not defined"
     ]
    }
   ],
   "source": [
    "# At training time:\n",
    "layer_output *= np.randint(0, high=2, size=layer_output.shape)\n",
    "# Note that we are scaling *up* rather scaling *down* in this case\n",
    "layer_output /= 0.5"
   ]
  },
  {
   "cell_type": "markdown",
   "metadata": {},
   "source": [
    "\n",
    "This technique may seem strange and arbitrary. Why would this help reduce overfitting? Geoff Hinton has said that he was inspired, among \n",
    "other things, by a fraud prevention mechanism used by banks -- in his own words: _\"I went to my bank. The tellers kept changing and I asked \n",
    "one of them why. He said he didn’t know but they got moved around a lot. I figured it must be because it would require cooperation \n",
    "between employees to successfully defraud the bank. This made me realize that randomly removing a different subset of neurons on each \n",
    "example would prevent conspiracies and thus reduce overfitting\"_.\n",
    "\n",
    "The core idea is that introducing noise in the output values of a layer can break up happenstance patterns that are not significant (what \n",
    "Hinton refers to as \"conspiracies\"), which the network would start memorizing if no noise was present. \n",
    "\n",
    "In Keras you can introduce dropout in a network via the `Dropout` layer, which gets applied to the output of layer right before it, e.g.:"
   ]
  },
  {
   "cell_type": "code",
   "execution_count": 25,
   "metadata": {},
   "outputs": [
    {
     "ename": "NameError",
     "evalue": "name 'model' is not defined",
     "output_type": "error",
     "traceback": [
      "\u001b[0;31m---------------------------------------------------------------------------\u001b[0m",
      "\u001b[0;31mNameError\u001b[0m                                 Traceback (most recent call last)",
      "\u001b[0;32m<ipython-input-25-65ed89de200e>\u001b[0m in \u001b[0;36m<module>\u001b[0;34m()\u001b[0m\n\u001b[0;32m----> 1\u001b[0;31m \u001b[0mmodel\u001b[0m\u001b[0;34m.\u001b[0m\u001b[0madd\u001b[0m\u001b[0;34m(\u001b[0m\u001b[0mlayers\u001b[0m\u001b[0;34m.\u001b[0m\u001b[0mDropout\u001b[0m\u001b[0;34m(\u001b[0m\u001b[0;36m0.5\u001b[0m\u001b[0;34m)\u001b[0m\u001b[0;34m)\u001b[0m\u001b[0;34m\u001b[0m\u001b[0m\n\u001b[0m",
      "\u001b[0;31mNameError\u001b[0m: name 'model' is not defined"
     ]
    }
   ],
   "source": [
    "model.add(layers.Dropout(0.5))"
   ]
  },
  {
   "cell_type": "markdown",
   "metadata": {},
   "source": [
    "Let's add two `Dropout` layers in our IMDB network to see how well they do at reducing overfitting:"
   ]
  },
  {
   "cell_type": "code",
   "execution_count": 26,
   "metadata": {},
   "outputs": [],
   "source": [
    "dpt_model = models.Sequential()\n",
    "dpt_model.add(layers.Dense(16, activation='relu', input_shape=(10000,)))\n",
    "dpt_model.add(layers.Dropout(0.5))\n",
    "dpt_model.add(layers.Dense(16, activation='relu'))\n",
    "dpt_model.add(layers.Dropout(0.5))\n",
    "dpt_model.add(layers.Dense(1, activation='sigmoid'))\n",
    "\n",
    "dpt_model.compile(optimizer='rmsprop',\n",
    "                  loss='binary_crossentropy',\n",
    "                  metrics=['acc'])"
   ]
  },
  {
   "cell_type": "code",
   "execution_count": 27,
   "metadata": {},
   "outputs": [
    {
     "name": "stdout",
     "output_type": "stream",
     "text": [
      "Train on 25000 samples, validate on 25000 samples\n",
      "Epoch 1/20\n",
      "25000/25000 [==============================] - 3s 129us/step - loss: 0.6377 - acc: 0.6438 - val_loss: 0.5692 - val_acc: 0.8572\n",
      "Epoch 2/20\n",
      "25000/25000 [==============================] - 3s 127us/step - loss: 0.5273 - acc: 0.7956 - val_loss: 0.4503 - val_acc: 0.8774\n",
      "Epoch 3/20\n",
      "25000/25000 [==============================] - 3s 120us/step - loss: 0.4377 - acc: 0.8524 - val_loss: 0.3660 - val_acc: 0.8827\n",
      "Epoch 4/20\n",
      "25000/25000 [==============================] - 3s 120us/step - loss: 0.3620 - acc: 0.8829 - val_loss: 0.3193 - val_acc: 0.8856\n",
      "Epoch 5/20\n",
      "25000/25000 [==============================] - 3s 120us/step - loss: 0.3123 - acc: 0.9016 - val_loss: 0.2957 - val_acc: 0.8877\n",
      "Epoch 6/20\n",
      "25000/25000 [==============================] - 3s 119us/step - loss: 0.2764 - acc: 0.9144 - val_loss: 0.2891 - val_acc: 0.8881\n",
      "Epoch 7/20\n",
      "25000/25000 [==============================] - 3s 119us/step - loss: 0.2487 - acc: 0.9224 - val_loss: 0.2910 - val_acc: 0.8853\n",
      "Epoch 8/20\n",
      "25000/25000 [==============================] - 3s 120us/step - loss: 0.2268 - acc: 0.9295 - val_loss: 0.3123 - val_acc: 0.8857\n",
      "Epoch 9/20\n",
      "25000/25000 [==============================] - 3s 121us/step - loss: 0.2076 - acc: 0.9334 - val_loss: 0.3242 - val_acc: 0.8860\n",
      "Epoch 10/20\n",
      "25000/25000 [==============================] - 3s 120us/step - loss: 0.1936 - acc: 0.9374 - val_loss: 0.3330 - val_acc: 0.8852\n",
      "Epoch 11/20\n",
      "25000/25000 [==============================] - 3s 121us/step - loss: 0.1793 - acc: 0.9447 - val_loss: 0.3489 - val_acc: 0.8819\n",
      "Epoch 12/20\n",
      "25000/25000 [==============================] - 3s 120us/step - loss: 0.1681 - acc: 0.9484 - val_loss: 0.4190 - val_acc: 0.8760\n",
      "Epoch 13/20\n",
      "25000/25000 [==============================] - 3s 119us/step - loss: 0.1614 - acc: 0.9485 - val_loss: 0.4068 - val_acc: 0.8792\n",
      "Epoch 14/20\n",
      "25000/25000 [==============================] - 3s 119us/step - loss: 0.1529 - acc: 0.9528 - val_loss: 0.4114 - val_acc: 0.8785\n",
      "Epoch 15/20\n",
      "25000/25000 [==============================] - 3s 123us/step - loss: 0.1500 - acc: 0.9543 - val_loss: 0.4475 - val_acc: 0.8760\n",
      "Epoch 16/20\n",
      "25000/25000 [==============================] - 3s 128us/step - loss: 0.1473 - acc: 0.9542 - val_loss: 0.4462 - val_acc: 0.8747\n",
      "Epoch 17/20\n",
      "25000/25000 [==============================] - 3s 120us/step - loss: 0.1373 - acc: 0.9596 - val_loss: 0.4739 - val_acc: 0.8758\n",
      "Epoch 18/20\n",
      "25000/25000 [==============================] - 3s 121us/step - loss: 0.1358 - acc: 0.9584 - val_loss: 0.4865 - val_acc: 0.8738\n",
      "Epoch 19/20\n",
      "25000/25000 [==============================] - 3s 138us/step - loss: 0.1337 - acc: 0.9596 - val_loss: 0.4903 - val_acc: 0.8710\n",
      "Epoch 20/20\n",
      "25000/25000 [==============================] - 3s 122us/step - loss: 0.1297 - acc: 0.9594 - val_loss: 0.5716 - val_acc: 0.8721\n"
     ]
    }
   ],
   "source": [
    "dpt_model_hist = dpt_model.fit(x_train, y_train,\n",
    "                               epochs=20,\n",
    "                               batch_size=512,\n",
    "                               validation_data=(x_test, y_test))"
   ]
  },
  {
   "cell_type": "markdown",
   "metadata": {},
   "source": [
    "Let's plot the results:"
   ]
  },
  {
   "cell_type": "code",
   "execution_count": 32,
   "metadata": {},
   "outputs": [
    {
     "data": {
      "image/png": "[encoded data removed]",
      "text/plain": [
       "<matplotlib.figure.Figure at 0x7f43baa91dd8>"
      ]
     },
     "metadata": {},
     "output_type": "display_data"
    }
   ],
   "source": [
    "dpt_model_val_loss = dpt_model_hist.history['val_loss']\n",
    "\n",
    "plt.plot(epochs, original_val_loss, 'b+', label='Original model')\n",
    "plt.plot(epochs, dpt_model_val_loss, 'bo', label='Dropout-regularized model')\n",
    "plt.xlabel('Epochs')\n",
    "plt.ylabel('Validation loss')\n",
    "plt.legend()\n",
    "\n",
    "plt.show()"
   ]
  },
  {
   "cell_type": "markdown",
   "metadata": {},
   "source": [
    "\n",
    "Again, a clear improvement over the reference network.\n",
    "\n",
    "To recap: here the most common ways to prevent overfitting in neural networks:\n",
    "\n",
    "* Getting more training data.\n",
    "* Reducing the capacity of the network.\n",
    "* Adding weight regularization.\n",
    "* Adding dropout."
   ]
  }
 ],
 "metadata": {
  "kernelspec": {
   "display_name": "Python 3",
   "language": "python",
   "name": "python3"
  },
  "language_info": {
   "codemirror_mode": {
    "name": "ipython",
    "version": 3
   },
   "file_extension": ".py",
   "mimetype": "text/x-python",
   "name": "python",
   "nbconvert_exporter": "python",
   "pygments_lexer": "ipython3",
   "version": "3.6.4"
  }
 },
 "nbformat": 4,
 "nbformat_minor": 2
}
